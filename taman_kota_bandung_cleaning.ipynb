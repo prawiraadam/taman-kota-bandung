{
 "cells": [
  {
   "cell_type": "code",
   "execution_count": 1,
   "metadata": {},
   "outputs": [],
   "source": [
    "import pandas as pd\n",
    "import string\n",
    "import difflib"
   ]
  },
  {
   "cell_type": "code",
   "execution_count": 2,
   "metadata": {},
   "outputs": [],
   "source": [
    "def data_prep(year):     # Casefolding, remove punctuation, remove whitespace\n",
    "    df = pd.read_csv('data/taman_kota_bandung_{}.csv'.format(year), sep = ';')\n",
    "    df[\"NamaTamanLower\"] = df[\"NamaTaman\"].str.lower()\n",
    "    df[\"NamaTamanLower\"] = df[\"NamaTamanLower\"].str.replace('[^\\w\\s]','')\n",
    "    df[\"NamaTamanLower\"] = df[\"NamaTamanLower\"].str.replace(' ','')\n",
    "    \n",
    "    return df"
   ]
  },
  {
   "cell_type": "code",
   "execution_count": 3,
   "metadata": {},
   "outputs": [],
   "source": [
    "def get_park_diff_difflib(list_taman_1, list_taman_2):\n",
    "    # Contoh hasilnya nanti result[0] nama taman 2018, result[1] nama taman 2017 & difference ratio\n",
    "    result = []\n",
    "    for i in range(len(list_taman_2)):\n",
    "        cek1 = list_taman_2[i].strip()\n",
    "        temp = []\n",
    "        for j in range(len(list_taman_1)):\n",
    "            temp2 = []\n",
    "            cek2 = list_taman_1[j]\n",
    "            temp2.append(difflib.SequenceMatcher(None, cek2, cek1).ratio())\n",
    "            temp2.append(cek2)\n",
    "            temp.append(temp2)\n",
    "        result.append([cek1, temp[temp.index(max(temp))]])\n",
    "    res_sorted = sorted(result, key=lambda l:l[1])\n",
    "    \n",
    "    return res_sorted"
   ]
  },
  {
   "cell_type": "code",
   "execution_count": 4,
   "metadata": {},
   "outputs": [],
   "source": [
    "def get_park_diff(list_taman_1, list_taman_2):\n",
    "    existed = []\n",
    "    new = []\n",
    "    for i in range(len(list_taman_2)):\n",
    "        exist = False\n",
    "        for j in range(len(list_taman_1)):\n",
    "            if(list_taman_2[i] == list_taman_1[j]):\n",
    "                temp = []\n",
    "                exist = True\n",
    "                temp.append(list_taman_1[j])\n",
    "                temp.append(j)\n",
    "                existed.append(temp)\n",
    "                break\n",
    "        if(exist == False):\n",
    "            temp = []\n",
    "            temp.append(list_taman_2[i])\n",
    "            temp.append(i)\n",
    "            new.append(temp)\n",
    "    return existed, new"
   ]
  },
  {
   "cell_type": "code",
   "execution_count": 5,
   "metadata": {},
   "outputs": [],
   "source": [
    "def get_deleted_park(list_taman_1, list_taman_2):\n",
    "    deleted = []\n",
    "    for i in range(len(list_taman_1)):\n",
    "        exist = False\n",
    "        for j in range(len(list_taman_2)):\n",
    "            if(list_taman_1[i] == list_taman_2[j]):\n",
    "                exist = True\n",
    "                break\n",
    "        if(exist == False):\n",
    "            temp = []\n",
    "            temp.append(list_taman_1[i])\n",
    "            temp.append(i)\n",
    "            deleted.append(temp)\n",
    "    return deleted"
   ]
  },
  {
   "cell_type": "code",
   "execution_count": 6,
   "metadata": {},
   "outputs": [],
   "source": [
    "def append_master(df_master, df, alist):\n",
    "    for i in range(len(alist)):\n",
    "        df_master = df_master.append(df.iloc[alist[i][1]])\n",
    "        \n",
    "    return df_master"
   ]
  },
  {
   "cell_type": "code",
   "execution_count": 7,
   "metadata": {},
   "outputs": [],
   "source": [
    "df_master = pd.DataFrame(columns=['Wilayah', 'Kode Kecamatan', 'Kecamatan', 'NamaTaman', 'Alamat', \n",
    "                                      'Luas (m2)', 'Data Tahun', 'NamaTamanLower'])"
   ]
  },
  {
   "cell_type": "code",
   "execution_count": 8,
   "metadata": {},
   "outputs": [],
   "source": [
    "df_prev = data_prep(2017)\n",
    "df_next = data_prep(2018)\n",
    "\n",
    "list_taman_prev = df_prev['NamaTamanLower'].tolist()\n",
    "list_taman_next = df_next['NamaTamanLower'].tolist()\n",
    "\n",
    "res_existed, res_new = get_park_diff(list_taman_prev, list_taman_next)\n",
    "\n",
    "df_master = append_master(df_master, df_prev, res_existed)\n",
    "df_master = append_master(df_master, df_next, res_new)"
   ]
  },
  {
   "cell_type": "code",
   "execution_count": 9,
   "metadata": {},
   "outputs": [
    {
     "name": "stdout",
     "output_type": "stream",
     "text": [
      "[['tamansetraria', 34], ['tamanperumnassarijadi', 35], ['jalurpasteuri', 49], ['jalurpasteuri', 50], ['tamanpendawa', 77], ['bakbungaandiri', 94], ['bakbungaandirii', 95], ['tamanbabatan', 97], ['tamanrwbelakangkantorkelmaleber', 100], ['bakbungapotsimpang', 109], ['tamandipatiukur', 110], ['tamancihampelassetiabudikelsejahtera', 114], ['bakbungabbksiliwangi', 118], ['tamanjlteukuumar', 120], ['tamangelapnyawang', 122], ['tamandagoatas', 123], ['lapanglebaksiliwangi', 125], ['tamaneksspbucikapayang', 131], ['tamanbabakansiliwangi', 136], ['tamansingaperbangsa', 142], ['tamanpuskesmaskebonlega', 145], ['tamanwastukancanatamansari', 153], ['tamankodya', 154], ['tamancilakiatas', 168], ['tamancilakitengah', 169], ['tamancilakibawahidanii', 170], ['lapangsupratman', 179], ['tamanranggamalela', 186], ['tamancikapayangbadaksinga', 191], ['bakbunganangkasuni', 197], ['tamanpasupati', 200], ['tamanbragalembong', 204], ['tamanjlanggrek', 213], ['bakbungaacehsumatera', 215], ['tamansentrum', 216], ['jaluracehi', 217], ['jaluracehii', 218], ['tamanremartadinataaceh', 223], ['tamankosambi', 225], ['tamaneksspbudepantamanpramuka', 229], ['tamankomplekvillaasri', 248], ['tamanbabakansukamaju', 258], ['tamanmalabar', 342], ['tamancilentah', 361], ['tamanrw09kelciateul', 371], ['tamanrw12kelcigereleng', 372], ['tamanlarantuka', 391], ['tamanlapujugberungalunalun', 459], ['tamanlapanganblokh', 467], ['tamanblokgi', 469], ['tamanblokri', 475], ['tamanblokrii', 476], ['tamanpanyawangan', 508], ['tamanblokdiib', 530], ['tamanblokdiic', 531], ['tamanblokdiie', 534], ['tamanblokdiii', 538], ['tamanblokbb', 544], ['tamansarinahblokg', 546], ['tamanblokw', 560], ['tamanrancabolang', 563], ['tamanmetroestatel', 574], ['tamanblokb2a', 591], ['tamanblokl2k', 593], ['tamanbloke2a', 597], ['tamanbloke2c', 599], ['tamansanggarhurip1', 614], ['tamansanggarhurip4', 617], ['tamansanggarhurip5', 618], ['tamangading7', 626], ['tamangading12', 631], ['tamanpandanwangi', 632], ['tamanhbardan', 634], ['jalursampingutara', 644]]\n",
      "\n",
      "74\n"
     ]
    }
   ],
   "source": [
    "delet = get_deleted_park(list_taman_prev, list_taman_next)\n",
    "print(delet)\n",
    "print(\"\")\n",
    "print(len(delet))"
   ]
  },
  {
   "cell_type": "code",
   "execution_count": 10,
   "metadata": {},
   "outputs": [],
   "source": [
    "df_prev = data_prep(2018)\n",
    "df_next = data_prep(2019)\n",
    "\n",
    "list_taman_prev = df_prev['NamaTamanLower'].tolist()\n",
    "list_taman_next = df_next['NamaTamanLower'].tolist()\n",
    "\n",
    "res_existed, res_new = get_park_diff(list_taman_prev, list_taman_next)\n",
    "\n",
    "# df_master = append_master(df_master, df_prev, res_existed)\n",
    "df_master = append_master(df_master, df_next, res_new)"
   ]
  },
  {
   "cell_type": "code",
   "execution_count": 11,
   "metadata": {},
   "outputs": [
    {
     "name": "stdout",
     "output_type": "stream",
     "text": [
      "[]\n",
      "\n",
      "0\n"
     ]
    }
   ],
   "source": [
    "delet = get_deleted_park(list_taman_prev, list_taman_next)\n",
    "print(delet)\n",
    "print(\"\")\n",
    "print(len(delet))"
   ]
  },
  {
   "cell_type": "code",
   "execution_count": 12,
   "metadata": {},
   "outputs": [],
   "source": [
    "df_prev = data_prep(2019)\n",
    "df_next = data_prep(2020)\n",
    "\n",
    "list_taman_prev = df_prev['NamaTamanLower'].tolist()\n",
    "list_taman_next = df_next['NamaTamanLower'].tolist()\n",
    "\n",
    "res_existed, res_new = get_park_diff(list_taman_prev, list_taman_next)\n",
    "\n",
    "# df_master = append_master(df_master, df_prev, res_existed)\n",
    "df_master = append_master(df_master, df_next, res_new)"
   ]
  },
  {
   "cell_type": "code",
   "execution_count": 13,
   "metadata": {},
   "outputs": [
    {
     "name": "stdout",
     "output_type": "stream",
     "text": [
      "[]\n",
      "\n",
      "0\n"
     ]
    }
   ],
   "source": [
    "delet = get_deleted_park(list_taman_prev, list_taman_next)\n",
    "print(delet)\n",
    "print(\"\")\n",
    "print(len(delet))"
   ]
  },
  {
   "cell_type": "code",
   "execution_count": 14,
   "metadata": {},
   "outputs": [],
   "source": [
    "df_prev = data_prep(2020)\n",
    "df_next = data_prep(2021)\n",
    "\n",
    "df_next = df_next.rename(columns = {\"Luas(m2)\" : \"Luas (m2)\"})\n",
    "\n",
    "list_taman_prev = df_prev['NamaTamanLower'].tolist()\n",
    "list_taman_next = df_next['NamaTamanLower'].tolist()\n",
    "\n",
    "res_existed, res_new = get_park_diff(list_taman_prev, list_taman_next)\n",
    "\n",
    "# df_master = append_master(df_master, df_prev, res_existed)\n",
    "df_master = append_master(df_master, df_next, res_new)"
   ]
  },
  {
   "cell_type": "code",
   "execution_count": 15,
   "metadata": {},
   "outputs": [
    {
     "name": "stdout",
     "output_type": "stream",
     "text": [
      "[['tamansukajadipanglayungan', 45], ['tamanviaductpelajarpejuangdanlaskarwanita', 167], ['tamanrw08kelpasirlayung', 272], ['tamangolfbarat2c', 479], ['tamansanggarhurip3', 679], ['tamansanggarhurip6', 680]]\n",
      "\n",
      "6\n"
     ]
    }
   ],
   "source": [
    "delet = get_deleted_park(list_taman_prev, list_taman_next)\n",
    "print(delet)\n",
    "print(\"\")\n",
    "print(len(delet))"
   ]
  },
  {
   "cell_type": "code",
   "execution_count": 16,
   "metadata": {},
   "outputs": [],
   "source": [
    "df_master = df_master.drop(columns=\"NamaTamanLower\")\n",
    "df_master.to_csv(\"taman_kota_bandung_clean.csv\")"
   ]
  },
  {
   "cell_type": "code",
   "execution_count": null,
   "metadata": {},
   "outputs": [],
   "source": []
  }
 ],
 "metadata": {
  "kernelspec": {
   "display_name": "Python 3",
   "language": "python",
   "name": "python3"
  },
  "language_info": {
   "codemirror_mode": {
    "name": "ipython",
    "version": 3
   },
   "file_extension": ".py",
   "mimetype": "text/x-python",
   "name": "python",
   "nbconvert_exporter": "python",
   "pygments_lexer": "ipython3",
   "version": "3.7.1"
  }
 },
 "nbformat": 4,
 "nbformat_minor": 4
}
